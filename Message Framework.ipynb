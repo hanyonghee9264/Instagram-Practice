{
 "cells": [
  {
   "cell_type": "code",
   "execution_count": null,
   "metadata": {},
   "outputs": [],
   "source": [
    "response = requests.get(api_get_access_token, params)\n",
    "data = response.json()\n",
    "access_token = data['access_token']\n",
    "params = {\n",
    "    'access_token': access_token,\n",
    "    'fields': ','.join([\n",
    "        'id',\n",
    "        'first_name',\n",
    "        'last_name',\n",
    "        'picture.type(large)',\n",
    "    ]),\n",
    "}\n",
    "response = requests.get(api_me, params)\n",
    "data = response.json()\n",
    "\n",
    "facebook_id = data['id']\n",
    "first_name = data['first_name']\n",
    "last_name = data['last_name']\n",
    "url_img_profile = data['picture']['data']['url']\n",
    "\n",
    "\n",
    "return HttpResponse(data)"
   ]
  }
 ],
 "metadata": {
  "kernelspec": {
   "display_name": "Python 3",
   "language": "python",
   "name": "python3"
  },
  "language_info": {
   "codemirror_mode": {
    "name": "ipython",
    "version": 3
   },
   "file_extension": ".py",
   "mimetype": "text/x-python",
   "name": "python",
   "nbconvert_exporter": "python",
   "pygments_lexer": "ipython3",
   "version": "3.6.6"
  }
 },
 "nbformat": 4,
 "nbformat_minor": 2
}
