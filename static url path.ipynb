{
 "cells": [
  {
   "cell_type": "code",
   "execution_count": 7,
   "metadata": {},
   "outputs": [],
   "source": [
    "def media_serve(request, path):\n",
    "    file_path = os.path.join(settings.MEDIA_ROOT, path)\n",
    "    return FileResponse(open(file_path, 'rb'), content_type='images/jpeg')"
   ]
  },
  {
   "cell_type": "code",
   "execution_count": 8,
   "metadata": {},
   "outputs": [
    {
     "ename": "NameError",
     "evalue": "name 'views' is not defined",
     "output_type": "error",
     "traceback": [
      "\u001b[0;31m---------------------------------------------------------------------------\u001b[0m",
      "\u001b[0;31mNameError\u001b[0m                                 Traceback (most recent call last)",
      "\u001b[0;32m<ipython-input-8-dcffa9f14535>\u001b[0m in \u001b[0;36m<module>\u001b[0;34m\u001b[0m\n\u001b[1;32m      1\u001b[0m urlpatterns = [\n\u001b[0;32m----> 2\u001b[0;31m     \u001b[0mpath\u001b[0m\u001b[0;34m(\u001b[0m\u001b[0;34m'media/<path:path>'\u001b[0m\u001b[0;34m,\u001b[0m \u001b[0mviews\u001b[0m\u001b[0;34m.\u001b[0m\u001b[0mmedia_serve\u001b[0m\u001b[0;34m)\u001b[0m\u001b[0;34m,\u001b[0m\u001b[0;34m\u001b[0m\u001b[0m\n\u001b[0m\u001b[1;32m      3\u001b[0m ]\n",
      "\u001b[0;31mNameError\u001b[0m: name 'views' is not defined"
     ]
    }
   ],
   "source": [
    "urlpatterns = [\n",
    "    path('media/<path:path>', views.media_serve),\n",
    "]"
   ]
  },
  {
   "cell_type": "code",
   "execution_count": null,
   "metadata": {},
   "outputs": [],
   "source": [
    "def media_serve(request, path):\n",
    "    file_path = os.path.join(settings.MEDIA_ROOT, path)\n",
    "    return FileResponse(open(file_path, 'rb'), content_type='images/jpeg')"
   ]
  }
 ],
 "metadata": {
  "kernelspec": {
   "display_name": "Django Shell-Plus",
   "language": "python",
   "name": "django_extensions"
  },
  "language_info": {
   "codemirror_mode": {
    "name": "ipython",
    "version": 3
   },
   "file_extension": ".py",
   "mimetype": "text/x-python",
   "name": "python",
   "nbconvert_exporter": "python",
   "pygments_lexer": "ipython3",
   "version": "3.6.6"
  }
 },
 "nbformat": 4,
 "nbformat_minor": 2
}
